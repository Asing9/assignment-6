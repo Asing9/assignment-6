{
 "cells": [
  {
   "cell_type": "code",
   "execution_count": null,
   "id": "799f3085",
   "metadata": {},
   "outputs": [],
   "source": [
    "Q.1. What are keywords in python? Using the keyword library, print all the python keywords.\n"
   ]
  },
  {
   "cell_type": "code",
   "execution_count": 2,
   "id": "35735367",
   "metadata": {},
   "outputs": [
    {
     "data": {
      "text/plain": [
       "['False',\n",
       " 'None',\n",
       " 'True',\n",
       " 'and',\n",
       " 'as',\n",
       " 'assert',\n",
       " 'async',\n",
       " 'await',\n",
       " 'break',\n",
       " 'class',\n",
       " 'continue',\n",
       " 'def',\n",
       " 'del',\n",
       " 'elif',\n",
       " 'else',\n",
       " 'except',\n",
       " 'finally',\n",
       " 'for',\n",
       " 'from',\n",
       " 'global',\n",
       " 'if',\n",
       " 'import',\n",
       " 'in',\n",
       " 'is',\n",
       " 'lambda',\n",
       " 'nonlocal',\n",
       " 'not',\n",
       " 'or',\n",
       " 'pass',\n",
       " 'raise',\n",
       " 'return',\n",
       " 'try',\n",
       " 'while',\n",
       " 'with',\n",
       " 'yield']"
      ]
     },
     "execution_count": 2,
     "metadata": {},
     "output_type": "execute_result"
    }
   ],
   "source": [
    "import keyword\n",
    "\n",
    "keyword.kwlist"
   ]
  },
  {
   "cell_type": "code",
   "execution_count": null,
   "id": "cfcacc25",
   "metadata": {},
   "outputs": [],
   "source": [
    "Q.2. What are the rules to create variables in python?\n"
   ]
  },
  {
   "cell_type": "code",
   "execution_count": null,
   "id": "8e89089a",
   "metadata": {},
   "outputs": [],
   "source": [
    "declare of variables of any name , except integer value, keywords, space\n",
    "\n",
    "ex= a,b,c any name\n",
    "_1,_123\n",
    "fun_name(without space or with underscore)\n",
    "variables are case sensitive\n"
   ]
  },
  {
   "cell_type": "code",
   "execution_count": null,
   "id": "a72c144d",
   "metadata": {},
   "outputs": [],
   "source": [
    "Q.3. What are the standards and conventions followed for the nomenclature of variables in\n",
    "python to improve code readability and maintainability?"
   ]
  },
  {
   "cell_type": "code",
   "execution_count": null,
   "id": "e0ef7dae",
   "metadata": {},
   "outputs": [],
   "source": [
    "declare of variables of any name , except integer value, keywords, space\n",
    "\n",
    "ex= a,b,c any name\n",
    "_1,_123\n",
    "fun_name(without space or with underscore)\n",
    "variables are case sensitive\n"
   ]
  },
  {
   "cell_type": "code",
   "execution_count": null,
   "id": "512a9400",
   "metadata": {},
   "outputs": [],
   "source": [
    "Q.4. What will happen if a keyword is used as a variable name?\n"
   ]
  },
  {
   "cell_type": "code",
   "execution_count": 4,
   "id": "01e0f275",
   "metadata": {},
   "outputs": [
    {
     "ename": "SyntaxError",
     "evalue": "invalid syntax (696777985.py, line 1)",
     "output_type": "error",
     "traceback": [
      "\u001b[1;36m  Cell \u001b[1;32mIn[4], line 1\u001b[1;36m\u001b[0m\n\u001b[1;33m    while = 20\u001b[0m\n\u001b[1;37m          ^\u001b[0m\n\u001b[1;31mSyntaxError\u001b[0m\u001b[1;31m:\u001b[0m invalid syntax\n"
     ]
    }
   ],
   "source": [
    "while = 20\n",
    "print(for)"
   ]
  },
  {
   "cell_type": "code",
   "execution_count": null,
   "id": "041bbdcb",
   "metadata": {},
   "outputs": [],
   "source": [
    "Q.5. For what purpose def keyword is used?\n"
   ]
  },
  {
   "cell_type": "code",
   "execution_count": null,
   "id": "dd4f6990",
   "metadata": {},
   "outputs": [],
   "source": [
    "def keyword is used for define function or create function"
   ]
  },
  {
   "cell_type": "code",
   "execution_count": null,
   "id": "f1b3fd91",
   "metadata": {},
   "outputs": [],
   "source": [
    "Q.6. What is the operation of this special character ‘\\’?\n"
   ]
  },
  {
   "cell_type": "code",
   "execution_count": null,
   "id": "2e8ccd48",
   "metadata": {},
   "outputs": [],
   "source": [
    "if we use black slash with t as \\t it will convert as tab\n",
    "if we use black slash with n asn \\n it will convert as new line\n"
   ]
  },
  {
   "cell_type": "code",
   "execution_count": null,
   "id": "be3a9914",
   "metadata": {},
   "outputs": [],
   "source": [
    "Q.7. Give an example of the following conditions:\n",
    "(i) Homogeneous list\n",
    "(ii) Heterogeneous set\n",
    "(iii) Homogeneous tuple"
   ]
  },
  {
   "cell_type": "code",
   "execution_count": null,
   "id": "201fa84d",
   "metadata": {},
   "outputs": [],
   "source": []
  },
  {
   "cell_type": "code",
   "execution_count": null,
   "id": "030e588b",
   "metadata": {},
   "outputs": [],
   "source": [
    "Q.8. Explain the mutable and immutable data types with proper explanation & examples.\n"
   ]
  },
  {
   "cell_type": "code",
   "execution_count": null,
   "id": "edc78fbd",
   "metadata": {},
   "outputs": [],
   "source": [
    "mutable data type can change after creation but immutable data type cannot change after creation\n",
    "list is mutable but tuple is immutable"
   ]
  },
  {
   "cell_type": "code",
   "execution_count": 8,
   "id": "8bb8f695",
   "metadata": {},
   "outputs": [],
   "source": [
    "l = [1,2,3]\n",
    "l.append(4)\n",
    "l.remove(3)"
   ]
  },
  {
   "cell_type": "code",
   "execution_count": 9,
   "id": "bda962b6",
   "metadata": {},
   "outputs": [
    {
     "data": {
      "text/plain": [
       "[1, 2, 4]"
      ]
     },
     "execution_count": 9,
     "metadata": {},
     "output_type": "execute_result"
    }
   ],
   "source": [
    "l"
   ]
  },
  {
   "cell_type": "code",
   "execution_count": 10,
   "id": "0a5ead08",
   "metadata": {},
   "outputs": [
    {
     "ename": "AttributeError",
     "evalue": "'tuple' object has no attribute 'append'",
     "output_type": "error",
     "traceback": [
      "\u001b[1;31m---------------------------------------------------------------------------\u001b[0m",
      "\u001b[1;31mAttributeError\u001b[0m                            Traceback (most recent call last)",
      "Cell \u001b[1;32mIn[10], line 2\u001b[0m\n\u001b[0;32m      1\u001b[0m t\u001b[38;5;241m=\u001b[39m(\u001b[38;5;241m1\u001b[39m,\u001b[38;5;241m2\u001b[39m,\u001b[38;5;241m3\u001b[39m)\n\u001b[1;32m----> 2\u001b[0m \u001b[43mt\u001b[49m\u001b[38;5;241;43m.\u001b[39;49m\u001b[43mappend\u001b[49m(\u001b[38;5;241m4\u001b[39m)\n",
      "\u001b[1;31mAttributeError\u001b[0m: 'tuple' object has no attribute 'append'"
     ]
    }
   ],
   "source": [
    "t=(1,2,3)\n",
    "t.append(4)"
   ]
  },
  {
   "cell_type": "code",
   "execution_count": null,
   "id": "ac2d8c3b",
   "metadata": {},
   "outputs": [],
   "source": [
    "Write a code to create the given structure using only for loop.\n",
    "    *\n",
    "   ***\n",
    "  *****\n",
    " *******\n",
    "*********"
   ]
  },
  {
   "cell_type": "code",
   "execution_count": 1,
   "id": "724df97d",
   "metadata": {},
   "outputs": [
    {
     "name": "stdout",
     "output_type": "stream",
     "text": [
      "                    * \n",
      "                  * * * \n",
      "                * * * * * \n",
      "              * * * * * * * \n",
      "            * * * * * * * * * \n",
      "          * * * * * * * * * * * \n",
      "        * * * * * * * * * * * * * \n",
      "      * * * * * * * * * * * * * * * \n",
      "    * * * * * * * * * * * * * * * * * \n",
      "  * * * * * * * * * * * * * * * * * * * \n"
     ]
    }
   ],
   "source": [
    "n=10\n",
    "for i in range(n):\n",
    "    for j in range(i,n):\n",
    "        print(' ',end=\" \")\n",
    "    for k in range(i):\n",
    "        print('*',end=\" \")\n",
    "    for l in range(i+1):\n",
    "        print('*',end=\" \")\n",
    "    \n",
    "    print()"
   ]
  },
  {
   "cell_type": "code",
   "execution_count": null,
   "id": "bc13ecc6",
   "metadata": {},
   "outputs": [],
   "source": [
    "Q.10. Write a code to create the given structure using while loop.\n",
    "|||||||||\n",
    " |||||||\n",
    "  |||||\n",
    "   |||\n",
    "    |"
   ]
  },
  {
   "cell_type": "code",
   "execution_count": 9,
   "id": "7699178c",
   "metadata": {},
   "outputs": [
    {
     "name": "stdout",
     "output_type": "stream",
     "text": [
      "*****"
     ]
    }
   ],
   "source": [
    "i=1\n",
    "j=1\n",
    "while i<=5:\n",
    "    \n",
    "    while j<=i:\n",
    "        print('*',end=\"\")\n",
    "        j+=1\n",
    "    i+=1"
   ]
  },
  {
   "cell_type": "code",
   "execution_count": null,
   "id": "76b36103",
   "metadata": {},
   "outputs": [],
   "source": []
  },
  {
   "cell_type": "code",
   "execution_count": null,
   "id": "c68ffeb3",
   "metadata": {},
   "outputs": [],
   "source": []
  },
  {
   "cell_type": "code",
   "execution_count": null,
   "id": "351360cd",
   "metadata": {},
   "outputs": [],
   "source": []
  },
  {
   "cell_type": "code",
   "execution_count": null,
   "id": "43daa48e",
   "metadata": {},
   "outputs": [],
   "source": []
  },
  {
   "cell_type": "code",
   "execution_count": null,
   "id": "9afe4cf8",
   "metadata": {},
   "outputs": [],
   "source": []
  }
 ],
 "metadata": {
  "kernelspec": {
   "display_name": "Python 3 (ipykernel)",
   "language": "python",
   "name": "python3"
  },
  "language_info": {
   "codemirror_mode": {
    "name": "ipython",
    "version": 3
   },
   "file_extension": ".py",
   "mimetype": "text/x-python",
   "name": "python",
   "nbconvert_exporter": "python",
   "pygments_lexer": "ipython3",
   "version": "3.10.9"
  }
 },
 "nbformat": 4,
 "nbformat_minor": 5
}
